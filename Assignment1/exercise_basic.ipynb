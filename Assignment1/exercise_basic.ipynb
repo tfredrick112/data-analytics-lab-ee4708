{
 "cells": [
  {
   "cell_type": "markdown",
   "metadata": {},
   "source": [
    "1) Given the array split the array at the middle (if it is odd length consider next higher integer), add reverse the array.\n",
    "\n",
    "Ex:\n",
    "if input is [12,10,5,6,52,36] \n",
    "output should be [6,52,36,12,10,5]\n",
    "\n",
    "if input is  [12,10,5,6,52,36,34]\n",
    "output should be [6,52,36,34,12,10,5]"
   ]
  },
  {
   "cell_type": "code",
   "execution_count": 1,
   "metadata": {},
   "outputs": [],
   "source": [
    "import math\n",
    "# Complete this function to get the desired result\n",
    "def reverseatCenter(arr):\n",
    "    split_index = len(arr)//2\n",
    "    arr2 = arr[split_index:] + arr[:split_index]\n",
    "    return arr2"
   ]
  },
  {
   "cell_type": "code",
   "execution_count": 2,
   "metadata": {},
   "outputs": [
    {
     "name": "stdout",
     "output_type": "stream",
     "text": [
      "Example 1\n",
      "Input: 12 10 5 6 52 36\n",
      "Output: 6 52 36 12 10 5 \n",
      "\n",
      "Example 2\n",
      "Input: 12 10 5 6 52 36 34\n",
      "Output: 6 52 36 34 12 10 5 \n",
      "\n",
      "Example 3\n",
      "Input: 1 2\n",
      "Output: 2 1 \n",
      "\n",
      "Example 4\n",
      "Input: 78\n",
      "Output: 78 \n",
      "\n",
      "Example 5\n",
      "Input: 500 890 789\n",
      "Output: 890 789 500 \n",
      "\n"
     ]
    }
   ],
   "source": [
    "# Print working examples for Question 1\n",
    "input_arrays = [[12,10,5,6,52,36],\n",
    "                [12,10,5,6,52,36,34],\n",
    "                [1,2],\n",
    "                [78],\n",
    "                [500, 890, 789]]\n",
    "\n",
    "for i, arr in enumerate(input_arrays):\n",
    "    print(\"Example {}\".format(i + 1))\n",
    "    print(\"Input:\", *arr)\n",
    "    print(\"Output:\", *reverseatCenter(arr), \"\\n\")"
   ]
  },
  {
   "cell_type": "markdown",
   "metadata": {},
   "source": [
    "2) Given a list of numbers, return a list where all adjacent duplicate elements have been removed.\n",
    "\n",
    "Ex:\n",
    "\n",
    "2, 2, 2, 3, 2 returns 2, 3, 2."
   ]
  },
  {
   "cell_type": "code",
   "execution_count": 3,
   "metadata": {},
   "outputs": [],
   "source": [
    "# Complete the function to get the desired result\n",
    "def remove_adjacent(b):\n",
    "    n = len(b)\n",
    "    ind = 1\n",
    "    prev = b[0]\n",
    "    while n > 1:\n",
    "        if b[ind]==prev:\n",
    "            b.pop(ind)\n",
    "        else:\n",
    "            prev = b[ind]\n",
    "            ind = ind + 1\n",
    "        n = n - 1\n",
    "    return b"
   ]
  },
  {
   "cell_type": "code",
   "execution_count": 4,
   "metadata": {},
   "outputs": [
    {
     "name": "stdout",
     "output_type": "stream",
     "text": [
      "Example 1\n",
      "Input: 2 2 2 3 2\n",
      "Output: 2 3 2 \n",
      "\n",
      "Example 2\n",
      "Input: 1 1 2 2 3 4 4 4 4 5 6 7\n",
      "Output: 1 2 3 4 5 6 7 \n",
      "\n",
      "Example 3\n",
      "Input: -9 -9 89 89\n",
      "Output: -9 89 \n",
      "\n",
      "Example 4\n",
      "Input: 78 78 78 78 78\n",
      "Output: 78 \n",
      "\n",
      "Example 5\n",
      "Input: 500 890 789 890 890 500 1 2 2\n",
      "Output: 500 890 789 890 500 1 2 \n",
      "\n"
     ]
    }
   ],
   "source": [
    "# Print working examples for Question 2\n",
    "input_arrays = [[2, 2, 2, 3, 2],\n",
    "                [1, 1, 2, 2, 3, 4, 4, 4, 4, 5, 6, 7],\n",
    "                [-9, -9, 89, 89],\n",
    "                [78, 78, 78, 78, 78],\n",
    "                [500, 890, 789, 890, 890, 500, 1, 2, 2]]\n",
    "\n",
    "for i, arr in enumerate(input_arrays):\n",
    "    print(\"Example {}\".format(i + 1))\n",
    "    print(\"Input:\", *arr)\n",
    "    print(\"Output:\", *remove_adjacent(arr), \"\\n\")"
   ]
  },
  {
   "cell_type": "markdown",
   "metadata": {},
   "source": [
    "3) given matrix of 7x7 full of ones, create a square with given side length (center same as original square(7x7)) replace ones with zeors at the edges for example,\n",
    "\n"
   ]
  },
  {
   "cell_type": "markdown",
   "metadata": {},
   "source": [
    "$$\n",
    "\\begin{align}\n",
    "A = \\begin{bmatrix}\n",
    "1 & 1 & 1 & 1 & 1 & 1 & 1\\\\\n",
    "1 & 1 & 1 & 1 & 1 & 1 & 1\\\\\n",
    "1 & 1 & 1 & 1 & 1 & 1 & 1\\\\\n",
    "1 & 1 & 1 & 1 & 1 & 1 & 1\\\\\n",
    "1 & 1 & 1 & 1 & 1 & 1 & 1\\\\\n",
    "1 & 1 & 1 & 1 & 1 & 1 & 1\\\\\n",
    "1 & 1 & 1 & 1 & 1 & 1 & 1\\\\\n",
    "\\end{bmatrix}\n",
    "\\end{align}\n",
    "$$\n",
    "After modification\n",
    "$$\n",
    "\\begin{align}\n",
    "A = \\begin{bmatrix}\n",
    "1 & 1 & 1 & 1 & 1 & 1 & 1\\\\\n",
    "1 & 1 & 1 & 1 & 1 & 1 & 1\\\\\n",
    "1 & 1 & 0 & 0 & 0 & 1 & 1\\\\\n",
    "1 & 1 & 0 & 1 & 0 & 1 & 1\\\\\n",
    "1 & 1 & 0 & 0 & 0 & 1 & 1\\\\\n",
    "1 & 1 & 1 & 1 & 1 & 1 & 1\\\\\n",
    "1 & 1 & 1 & 1 & 1 & 1 & 1\\\\\n",
    "\\end{bmatrix}\n",
    "\\end{align}\n",
    "$$"
   ]
  },
  {
   "cell_type": "code",
   "execution_count": 5,
   "metadata": {},
   "outputs": [],
   "source": [
    "import numpy as np\n",
    "def modify_matrix(A, k):\n",
    "    mid_ind = A.shape[0]//2\n",
    "    offset = (k - 1)//2\n",
    "    horizontal_side = np.zeros(k, dtype=int)\n",
    "    vertical_side = np.zeros((1, k), dtype=int)\n",
    "    A[mid_ind - offset:mid_ind + offset + 1, mid_ind-offset] = vertical_side\n",
    "    A[mid_ind - offset:mid_ind + offset + 1, mid_ind+offset] = vertical_side\n",
    "    A[mid_ind-offset, mid_ind - offset:mid_ind + offset + 1] = horizontal_side\n",
    "    A[mid_ind+offset, mid_ind - offset:mid_ind + offset + 1] = horizontal_side\n",
    "    return A"
   ]
  },
  {
   "cell_type": "code",
   "execution_count": 6,
   "metadata": {},
   "outputs": [
    {
     "name": "stdout",
     "output_type": "stream",
     "text": [
      "Original matrix:\n",
      "[[1 1 1 1 1 1 1]\n",
      " [1 1 1 1 1 1 1]\n",
      " [1 1 1 1 1 1 1]\n",
      " [1 1 1 1 1 1 1]\n",
      " [1 1 1 1 1 1 1]\n",
      " [1 1 1 1 1 1 1]\n",
      " [1 1 1 1 1 1 1]]\n",
      "For k = 1\n",
      "[[1 1 1 1 1 1 1]\n",
      " [1 1 1 1 1 1 1]\n",
      " [1 1 1 1 1 1 1]\n",
      " [1 1 1 0 1 1 1]\n",
      " [1 1 1 1 1 1 1]\n",
      " [1 1 1 1 1 1 1]\n",
      " [1 1 1 1 1 1 1]]\n",
      "\n",
      "For k = 3\n",
      "[[1 1 1 1 1 1 1]\n",
      " [1 1 1 1 1 1 1]\n",
      " [1 1 0 0 0 1 1]\n",
      " [1 1 0 1 0 1 1]\n",
      " [1 1 0 0 0 1 1]\n",
      " [1 1 1 1 1 1 1]\n",
      " [1 1 1 1 1 1 1]]\n",
      "\n",
      "For k = 5\n",
      "[[1 1 1 1 1 1 1]\n",
      " [1 0 0 0 0 0 1]\n",
      " [1 0 1 1 1 0 1]\n",
      " [1 0 1 1 1 0 1]\n",
      " [1 0 1 1 1 0 1]\n",
      " [1 0 0 0 0 0 1]\n",
      " [1 1 1 1 1 1 1]]\n",
      "\n",
      "For k = 7\n",
      "[[0 0 0 0 0 0 0]\n",
      " [0 1 1 1 1 1 0]\n",
      " [0 1 1 1 1 1 0]\n",
      " [0 1 1 1 1 1 0]\n",
      " [0 1 1 1 1 1 0]\n",
      " [0 1 1 1 1 1 0]\n",
      " [0 0 0 0 0 0 0]]\n",
      "\n"
     ]
    }
   ],
   "source": [
    "#Print working examples\n",
    "A = np.ones((7, 7), dtype=int)\n",
    "# Display the original 7 x 7 matrix of ones\n",
    "print(\"Original matrix:\")\n",
    "print(A)\n",
    "\n",
    "# Print the modified matrix for k = 1, 3, 5, 7 (k has to be odd, as the centres of both squares have to coincide)\n",
    "k_values = [1, 3, 5, 7]\n",
    "for k in k_values:\n",
    "    print(\"For k = {}\".format(k))\n",
    "    A = np.ones((7, 7), dtype=int)\n",
    "    print(modify_matrix(A, k))\n",
    "    print()"
   ]
  },
  {
   "cell_type": "markdown",
   "metadata": {},
   "source": [
    "4) Paragraph present in data.txt is encoded such that each alphabet in word is incremented to next ascii value. Decode the paragraph present in the data_encoded.txt (Hint: decrease the ascii value of each character in the word)\n"
   ]
  },
  {
   "cell_type": "code",
   "execution_count": 7,
   "metadata": {},
   "outputs": [],
   "source": [
    "def sentence_decode(str):\n",
    "    s = str\n",
    "    dec_char_list = [chr(ord(char) - 1) if char != ' ' else char for char in s]\n",
    "    dec_words = ''.join(dec_char_list)\n",
    "    return dec_words"
   ]
  },
  {
   "cell_type": "code",
   "execution_count": 8,
   "metadata": {
    "tags": []
   },
   "outputs": [
    {
     "name": "stdout",
     "output_type": "stream",
     "text": [
      "ebub bobmztjt jt b qspdftt pg jotqfdujoh- dmfbotjoh- usbotgpsnjoh boe npefmjoh ebub xjui uif hpbm pg ejtdpwfsjoh vtfgvm jogpsnbujpo- jogpsnjoh dpodmvtjpot boe tvqqpsujoh efdjtjpo.nbljoh/ ebub bobmztjt ibt nvmujqmf gbdfut boe bqqspbdift- fodpnqbttjoh ejwfstf ufdiojrvft voefs b wbsjfuz pg obnft- boe jt vtfe jo ejggfsfou cvtjoftt- tdjfodf- boe tpdjbm tdjfodf epnbjot/ jo upebz(t cvtjoftt xpsme- ebub bobmztjt qmbzt b spmf jo nbljoh efdjtjpot npsf tdjfoujgjd boe ifmqjoh cvtjofttft pqfsbuf npsf fggfdujwfmz/\n",
      " \n",
      "data analysis is a process of inspecting, cleansing, transforming and modeling data with the goal of discovering useful information, informing conclusions and supporting decision-making. data analysis has multiple facets and approaches, encompassing diverse techniques under a variety of names, and is used in different business, science, and social science domains. in today's business world, data analysis plays a role in making decisions more scientific and helping businesses operate more effectively.\n"
     ]
    }
   ],
   "source": [
    "with open (\"data_encoded.txt\", \"r\") as myfile:\n",
    "    data=myfile.read()\n",
    "    print(data)\n",
    "    print(\" \")\n",
    "    print(sentence_decode(data))"
   ]
  },
  {
   "cell_type": "code",
   "execution_count": 9,
   "metadata": {},
   "outputs": [],
   "source": [
    "# Has to print the decoded paragraph."
   ]
  }
 ],
 "metadata": {
  "kernelspec": {
   "display_name": "Python 3",
   "language": "python",
   "name": "python3"
  },
  "language_info": {
   "codemirror_mode": {
    "name": "ipython",
    "version": 3
   },
   "file_extension": ".py",
   "mimetype": "text/x-python",
   "name": "python",
   "nbconvert_exporter": "python",
   "pygments_lexer": "ipython3",
   "version": "3.6.5"
  }
 },
 "nbformat": 4,
 "nbformat_minor": 2
}
