{
 "cells": [
  {
   "cell_type": "code",
   "execution_count": 1,
   "metadata": {},
   "outputs": [],
   "source": [
    "# Import required packages\n",
    "import numpy as np               # for mathematical operations, for arrays\n",
    "import pandas as pd              # Used for different data manipulation tasks\n",
    "import matplotlib.pyplot as plt  # Used for Plotting \n",
    "import random                    # For random number generator\n",
    "import warnings\n",
    "warnings.filterwarnings('ignore')# To avoid warnings note while running the notebook"
   ]
  },
  {
   "cell_type": "markdown",
   "metadata": {},
   "source": [
    "# Section 1 : Implementing Gradient Descent\n",
    "\n",
    "Gradient Descent is an first order optimization algorithm to find the local minimum differentiable function (usually a loss function or an objective function). We start with a random point on the function and move in the negative direction of the gradient of the function to reach the find minimum.\n",
    "\n",
    "Let $F(x)$ be a differentiable function parameterised by $x$ and $x^*$ be the parameter value which minimises $F(x)$. The initial value is $x_0=a_0$. To determine $x^*$ using gradient descent, at each of the $i^{th}$ the parameter updation rule is:\n",
    "\n",
    "\\begin{align*}\n",
    "x_i = x_{i-1} - \\eta \\nabla F(a_{i-1}), \\hspace{1cm} i\\geq 1\n",
    "\\end{align*}  \n",
    "where $x_i$ is updated value of the parameter in the $i^{th}$ iteration. \n",
    "\n",
    "\\begin{align*}\n",
    "\\eta \\nabla F(a_{i-1}) = \\eta \\frac{dF}{dx}\\bigr \\rvert_{x=a_{i-1}}\n",
    "\\end{align*} \n",
    "\n",
    "**Stopping Criteria**: Following are three ways which are used as stopping criteria in gradient descent algorithm:\n",
    "1. Limiting number of iterations\n",
    "2. Threshold for change in the parameter (i.e difference between the updated parameter and parameter in the previous iteration) --> Change in parameter > Threshold\n",
    "3. Threshold for change in gradient step\n",
    "                  \n",
    "**Question** : Find $x^*$ which minimises $F(x) = (x+5)^2$ using gradient descent \n",
    "\n",
    "**Note : Few variables are set to a given value, read the instructions in the pseudo code**\n",
    "\n",
    "**Pseudo Code**:\n",
    "1. Initialise the parameter ('x') with some random number,set learning rate = 0.01(section 4 has details on \"how to select appropriate learning rate for a given problem\"), set threshold = 0.000001,\n",
    "2. Define a function for calculating differential of F (Hint : Use lambda method for single line of code)\n",
    "3. Compute the updated value of the parameter using the formula: $x_i = xi-1 - \\eta \\nabla F(a_{i-1})$ \n",
    "4. Iterate over step 3 until the stopping criteria is satisfied (You have to choose stopping criteria appropriately)"
   ]
  },
  {
   "cell_type": "markdown",
   "metadata": {},
   "source": [
    "## 1.1 Implementing Code\n",
    "Implement the above pseudo code and print the optimum value of $x$ and $F(x)$. Also print the number of iterations required to reach that optimum.\n",
    "\n",
    "**Note : Carefully choose your stopping criteria for reaching optimum**"
   ]
  },
  {
   "cell_type": "markdown",
   "metadata": {},
   "source": [
    "Derivative of F(x) is 2(x + 5)"
   ]
  },
  {
   "cell_type": "code",
   "execution_count": 4,
   "metadata": {},
   "outputs": [
    {
     "name": "stdout",
     "output_type": "stream",
     "text": [
      "Optimum value of x = -4.999951128099857\n",
      "Optimum value of F(x) = 2.3884626235677676e-09\n",
      "Number of iterations  = 571\n"
     ]
    }
   ],
   "source": [
    "# Initialize x with a random value\n",
    "x = 0\n",
    "eta = 0.01 # learning rate\n",
    "threshold = 0.000001 # To decide when to stop updating parameters\n",
    "num_iter = 0\n",
    "\n",
    "# Derivative\n",
    "f = lambda n: (n + 5)**2\n",
    "f_grad = lambda n: 2*(n + 5)\n",
    "\n",
    "x_prev = 1\n",
    "while abs(x_prev - x)>=threshold:\n",
    "    x_prev = x\n",
    "    x = x - eta * f_grad(x)\n",
    "    num_iter += 1\n",
    "\n",
    "print(\"Optimum value of x = {}\".format(x))\n",
    "print(\"Optimum value of F(x) = {}\".format(f(x)))\n",
    "print(\"Number of iterations  = {}\".format(num_iter))"
   ]
  },
  {
   "attachments": {
    "Normal%20Equation.png": {
     "image/png": "[encoded data removed]"
    }
   },
   "cell_type": "markdown",
   "metadata": {},
   "source": [
    "# Section 2 : Linear Regression - Finding the Regression parameters using Normal Equation (Analytical Approach)\n",
    "**Dataset** : dataset1.csv (given)\n",
    "\n",
    "Given a dataset (here dataset1.csv), find the coefficients (parameters) using the Normal Equation and predict the outputs for the same dataset (dataset1.csv). Given input features in matrix $X$ and observed output or target vector $y$, the regression parameters are given by the equation:\n",
    "![Normal%20Equation.png](attachment:Normal%20Equation.png)\n",
    "\n",
    "\n",
    "**Pseudo Code:**\n",
    "1. Append ones to X, let say that as \"X_appended\" (This is to be done when there is intercept, if you know before hand that intercept is zero, then this step can be ignored)\n",
    "2. Find the pseudo Inverse of the X_appended\n",
    "3. Find the dot product of transpose of X_appended and target vector (y),\n",
    "4. Find \"theta\" (parameters) using \"Normal Equation\" given above (i.e Matrix multiplication of outputs of Step 2 and Step 3)\n",
    "5. Predict ouputs for X_new by appending it with ones and then using the formula $y=X_{new}\\theta$\n",
    "\n",
    "**Note : When you perform matrix multiplications or dot products on vectors or matrices, always keep track of the matrix or vectors shapes. This helps you in avoiding implementation errors.**\n",
    "\n",
    "<div class=\"alert alert-block alert-warning\">\n",
    "**Implementation Note:** Step 1 is crucial. We store each example as a row in the the $X$ matrix in Python `numpy`. To take into account the intercept term ($\\theta_0$), we add an additional first column to $X$ and set it to all ones. This allows us to treat $\\theta_0$ as simply another 'feature'.\n",
    "</div>"
   ]
  },
  {
   "cell_type": "code",
   "execution_count": 68,
   "metadata": {},
   "outputs": [
    {
     "name": "stdout",
     "output_type": "stream",
     "text": [
      "Learned parameters:  17.789247311827985 4.9018909899888765\n"
     ]
    }
   ],
   "source": [
    "# Import X, y from \"dataset1.csv\"\n",
    "# X and y are numpy array, Hint : store the data in the pandas dataframe and then convert it to numpy array\n",
    "df = pd.read_csv(\"dataset1.csv\")\n",
    "M = df.shape[0] # number of training examples\n",
    "X = np.array(df[\"X\"])\n",
    "X_appended = np.c_[np.ones(M), X]\n",
    "y = np.array(df[\"y\"])\n",
    "\n",
    "theta = np.dot(np.dot(np.linalg.inv(np.dot(X_appended.T, X_appended)), X_appended.T), y)\n",
    "print(\"Learned parameters: \", *theta)"
   ]
  },
  {
   "cell_type": "markdown",
   "metadata": {},
   "source": [
    "### 2.1 Function to predict the outputs\n",
    "Implement the predict function below. Predict the outputs for the given data (dataset1.csv), plot the predicted outputs Vs input features and scatter plot for dataset1.csv (X,y)"
   ]
  },
  {
   "cell_type": "code",
   "execution_count": 21,
   "metadata": {},
   "outputs": [
    {
     "data": {
      "image/png": "[encoded data removed]",
      "text/plain": [
       "<Figure size 432x288 with 1 Axes>"
      ]
     },
     "metadata": {},
     "output_type": "display_data"
    }
   ],
   "source": [
    "def predict(X, theta):\n",
    "    \"\"\"\n",
    "    Predictions of X for a given theta.\n",
    "    \n",
    "    Parameters\n",
    "    ----------\n",
    "    X : array with size of (m x n)\n",
    "    \n",
    "    theta : array with size of (n+1, 1).\n",
    "    \n",
    "    Returns\n",
    "    -------\n",
    "    predictions : array of size (m x 1)\n",
    "    \n",
    "    \"\"\"\n",
    "    # Number of training examples\n",
    "    M = X.shape[0]\n",
    "    \n",
    "    # Need to first append a column of ones\n",
    "    X_new = np.c_[np.ones(M), X]\n",
    "    \n",
    "    # Predict\n",
    "    prediction = np.dot(X_new, theta)\n",
    "\n",
    "    return prediction\n",
    "\n",
    "# Your predictions for the dataset1.csv\n",
    "y_pred = predict(X, theta)\n",
    "\n",
    "# plot a line Predictions Vs features and scatter plot for the training data X,y\n",
    "plt.plot(X, y_pred, color='red')\n",
    "plt.scatter(X, y, color='blue')\n",
    "plt.title(\"Predictions Vs Features\", size=16)\n",
    "plt.xlabel(\"x\", size = 14)\n",
    "plt.ylabel(\"y_pred, y\", size=14)\n",
    "plt.show()"
   ]
  },
  {
   "cell_type": "markdown",
   "metadata": {},
   "source": [
    "# Section 3 : Linear Regression - Find the Regression parameters using Gradient Descent\n",
    "This section is about applying gradient descent algorithm to find theta at which a cost function (Mean Squared Error) is minimum. This can be done using the gradient descent algorithm discussed in Section 1, where $x$ is replaced by the regression parameters. \n",
    "\n",
    "Refer to pseudo code in Section 1 for gradient descent algorithm. In simple terms, we initialise the regression parameters with some random number and we compute the gradient step to update the regression parameters."
   ]
  },
  {
   "cell_type": "markdown",
   "metadata": {},
   "source": [
    "### 3.1. Import and visualise the dataset"
   ]
  },
  {
   "cell_type": "code",
   "execution_count": 46,
   "metadata": {},
   "outputs": [
    {
     "data": {
      "image/png": "[encoded data removed]",
      "text/plain": [
       "<Figure size 432x288 with 1 Axes>"
      ]
     },
     "metadata": {},
     "output_type": "display_data"
    }
   ],
   "source": [
    "# Import the data from dataset1.csv - Same as Section 2\n",
    "# Import X and y as numpy array, Hint : store the data in the pandas dataframe and then convert it to numpy array\n",
    "df = pd.read_csv(\"dataset1.csv\")\n",
    "M = df.shape[0] # number of training examples\n",
    "N = df.shape[1] - 1 # number of features (without the intercept)\n",
    "X = np.array(df[\"X\"]).reshape((M, N))\n",
    "X_appended = np.c_[np.ones(M), X]\n",
    "y = np.array(df[\"y\"]).reshape((M, N))\n",
    "\n",
    "# Scatter Plot the data X and y for visualisation\n",
    "plt.scatter(X, y, color='magenta')\n",
    "plt.title(\"Visualization of the Dataset\", size=16)\n",
    "plt.xlabel(\"X\", size=14)\n",
    "plt.ylabel(\"y\", size=14)\n",
    "plt.show()"
   ]
  },
  {
   "cell_type": "markdown",
   "metadata": {},
   "source": [
    "### 3.2. Compute Cost Function - Mean Squared Error (MSE) \n",
    "The cost function used is Mean Squared Error (MSE) represented as $J(\\theta)$ and is given by:\n",
    "\n",
    "$$ J(\\theta) = \\frac{1}{2m} \\sum_{i=1}^m \\left( h_{\\theta}(x^{(i)}) - y^{(i)}\\right)^2$$\n",
    "\n",
    "where the hypothesis $h_\\theta(x)$ is a linear model given by: \n",
    "$$ h_\\theta(x) = \\theta^Tx = \\theta_0 + \\theta_1 x_1$$\n",
    "\n",
    "As you perform gradient descent to learn minimize the cost function $J(\\theta)$, it is helpful to monitor the convergence by computing the cost. This way you can know whether you choose high learning rate or low learning rate. Suppose if your learning rate is too high, you can see your cost will go up and down, but will not converge. If you choose good learning rate, then you can see your cost going down smoothly and converges.\n",
    "\n",
    "In this you will implement a function to calculate $J(\\theta)$ so you can check the convergence of your gradient descent implementation. "
   ]
  },
  {
   "cell_type": "code",
   "execution_count": 47,
   "metadata": {},
   "outputs": [],
   "source": [
    "def computeCost(X, y, theta):\n",
    "    \"\"\"\n",
    "    Compute cost for linear regression. Computes the cost of using theta as the\n",
    "    parameter for linear regression to fit the data points in X and y.\n",
    "    \n",
    "    Parameters\n",
    "    ----------\n",
    "    X : array with the shape of (m x n+1)\n",
    "        where m is the number of examples,n is the number of features\n",
    "        n+1 == n features + 1 for bias term(intercept as a feature)\n",
    "    \n",
    "    y : array with the shape of (m,1)\n",
    "    \n",
    "    theta : array with the shape of (n+1,1)\n",
    "    \n",
    "    Returns\n",
    "    -------\n",
    "    J : float -> The value of the regression cost function.\n",
    "    \n",
    "    \"\"\"\n",
    "    squared_error = np.square(np.dot(X, theta) - y)\n",
    "    J = 0.5 * np.mean(squared_error)\n",
    "    return J"
   ]
  },
  {
   "cell_type": "markdown",
   "metadata": {},
   "source": [
    "## 3.3. Implementation of Gradient Descent \n",
    "\n",
    "Recall that the parameters of your model are the $\\theta_j$ values. These are\n",
    "the values you will adjust to minimize cost $J(\\theta)$. One way to do this is to\n",
    "use the batch gradient descent algorithm. In batch gradient descent, each\n",
    "iteration performs the update\n",
    "\n",
    "$$ \\theta_j = \\theta_j - \\alpha \\frac{1}{m} \\sum_{i=1}^m \\left( h_\\theta(x^{(i)}) - y^{(i)}\\right)x_j^{(i)} \\qquad \\text{simultaneously update } \\theta_j \\text{ for all } j$$\n",
    "\n",
    "With each step of gradient descent, your parameters $\\theta_j$ come closer to the optimal values that will achieve the lowest cost J($\\theta$).\n",
    "\n",
    "\n",
    "**Important implementation notes**\n",
    "\n",
    "The function `gradientDescent` calls `computeCost` on every iteration and saves the cost to a python list. If you have implemented gradient descent and `computeCost` correctly, your value of $J(\\theta)$ should never increase, and should converge to a steady value by the end of the algorithm."
   ]
  },
  {
   "cell_type": "code",
   "execution_count": 52,
   "metadata": {},
   "outputs": [],
   "source": [
    "def gradientDescent(X_appended, y, theta, alpha, precision = 0.001):\n",
    "    \"\"\"\n",
    "    Performs gradient descent to learn `theta`. Updates theta by taking `num_iters`\n",
    "    gradient steps with learning rate `alpha`.\n",
    "    \n",
    "    Parameters\n",
    "    ----------\n",
    "    X_appended : array with shape of (m x n+1). Note : n+1 = n features + 1 intercept\n",
    "    \n",
    "    y : array with shape of (m, 1)\n",
    "    \n",
    "    theta : array with shape of (n+1,1)\n",
    "    \n",
    "    alpha : float value, called as \"learning rate\"\n",
    "    \n",
    "    precision : float, (One of the Stopping criteria). This is compared with the change in the cost from previous iter.\n",
    "    \n",
    "    Returns\n",
    "    -------\n",
    "    theta : array wih shape of (n+1,1),The learned linear regression parameters\n",
    "    \n",
    "    J_history : A python list for the values of the cost function after every iteration. This is to check for convergence\n",
    "    \n",
    "    Count : Integer, Number of iterations taken to converge\n",
    "    \n",
    "    Cost : Float, Mean squared error at the end of the iteration\n",
    "    \n",
    "    \n",
    "    Hint: \n",
    "    ------------\n",
    "    1. Peform a single gradient step on the parameter vector theta.\n",
    "    2. Loop over the number of iterations to update step by step.\n",
    "    \"\"\"\n",
    "    # number of training examples\n",
    "    M = X_appended.shape[0]\n",
    "    \n",
    "    J_history = []\n",
    "    count = 0\n",
    "    prev_cost = 20**10 # some high value\n",
    "    cost = computeCost(X_appended, y, theta)\n",
    "    \n",
    "    while prev_cost - cost > precision:\n",
    "        prev_cost = cost\n",
    "        theta = theta - (alpha/M) * np.dot(X_appended.T, (np.dot(X_appended, theta) - y))\n",
    "        cost = computeCost(X_appended, y, theta)\n",
    "        J_history.append(cost)\n",
    "        count += 1\n",
    "        \n",
    "    return theta, J_history, cost, count"
   ]
  },
  {
   "cell_type": "markdown",
   "metadata": {},
   "source": [
    "### Run gradientDescent function to train the model here\n",
    "**Note : Use the learning rate(alpha) and precision given below. Initialise theta with zeros is suggested here (but you can initialise with different numbers)**\n",
    "\n",
    "Print the final theta (learnt parameters), number of iterations to converge, value of cost function at the convergence."
   ]
  },
  {
   "cell_type": "code",
   "execution_count": 53,
   "metadata": {},
   "outputs": [
    {
     "name": "stdout",
     "output_type": "stream",
     "text": [
      "Learned parameters: [17.6687466] [4.90802378]\n",
      "Number of iterations to converge: 18995\n",
      "Value of cost function at convergence: 2.424134514167511\n"
     ]
    }
   ],
   "source": [
    "# initialize fitting parameters with zeros\n",
    "theta = np.zeros((2,1))\n",
    "\n",
    "# Play with these setting to see how these parameters play a huge, for a decent converge use below parameters\n",
    "precision = 0.000001\n",
    "alpha = 0.001\n",
    "\n",
    "##################################### Your Code here ########################################\n",
    "theta, J_history, final_cost, num_iter = gradientDescent(X_appended, y, theta, alpha, precision)\n",
    "print(\"Learned parameters:\", *theta)\n",
    "print(\"Number of iterations to converge:\", num_iter)\n",
    "print(\"Value of cost function at convergence:\", final_cost)"
   ]
  },
  {
   "cell_type": "markdown",
   "metadata": {},
   "source": [
    "## 3.4. Plot the Training Curve\n",
    "**Tip:** Initially the change in the loss(J) are drastic and dominating. So while plotting you may remove the first 10% of the iterations and then plot to see a smooth curve in the training process"
   ]
  },
  {
   "cell_type": "code",
   "execution_count": 63,
   "metadata": {},
   "outputs": [
    {
     "data": {
      "image/png": "[encoded data removed]",
      "text/plain": [
       "<Figure size 432x288 with 1 Axes>"
      ]
     },
     "metadata": {},
     "output_type": "display_data"
    }
   ],
   "source": [
    "plt.plot(list(range(num_iter))[10:], J_history[10:], color='blue')\n",
    "plt.title(\"Training Loss vs Number of iterations\", size=16)\n",
    "plt.ylabel(\"Loss\", size=14)\n",
    "plt.xlabel(\"Iterations\", size=14)\n",
    "plt.show()"
   ]
  },
  {
   "cell_type": "markdown",
   "metadata": {},
   "source": [
    "## 3.5. Predict Outputs and Plot the results\n",
    "Same as Step 5 in the Section 2. You can use the same function predict(X, theta)"
   ]
  },
  {
   "cell_type": "code",
   "execution_count": 64,
   "metadata": {},
   "outputs": [
    {
     "data": {
      "image/png": "[encoded data removed]",
      "text/plain": [
       "<Figure size 432x288 with 1 Axes>"
      ]
     },
     "metadata": {},
     "output_type": "display_data"
    }
   ],
   "source": [
    "# plot a line for predictions and scatter plot for the training data X,y\n",
    "y_predictions = predict(X, theta)\n",
    "plt.plot(X, y_predictions, color='red')\n",
    "plt.scatter(X, y, color='blue')\n",
    "plt.title(\"Predictions Vs Features\", size=16)\n",
    "plt.xlabel(\"x\", size = 14)\n",
    "plt.ylabel(\"y_predictions, y\", size=14)\n",
    "plt.show()"
   ]
  },
  {
   "cell_type": "markdown",
   "metadata": {},
   "source": [
    "# Section 4 : Selecting appropriate learning rate\n",
    "**Implementation Note:** If your learning rate is too large, $J(\\theta)$ can diverge and ‘blow up’, resulting in values which are too large for computer calculations. In these situations, `numpy` will tend to return\n",
    "NaNs. NaN stands for ‘not a number’ and is often caused by undefined operations that involve −∞ and +∞. So dont worry even if you cost as inf or NaN\n",
    "\n",
    "**Repeat the training as in Section 3 with different values of alpha as listed below. Print the alpha, cost and number of iterations it took for every alpha**"
   ]
  },
  {
   "cell_type": "code",
   "execution_count": 66,
   "metadata": {},
   "outputs": [
    {
     "name": "stdout",
     "output_type": "stream",
     "text": [
      "Learning rate alpha: 0.0001\n",
      "Number of iterations to converge: 146029\n",
      "Value of cost function at convergence: 2.4413078221495095\n",
      "\n",
      "Learning rate alpha: 0.0003\n",
      "Number of iterations to converge: 55663\n",
      "Value of cost function at convergence: 2.4285868952040355\n",
      "\n",
      "Learning rate alpha: 0.0005\n",
      "Number of iterations to converge: 35347\n",
      "Value of cost function at convergence: 2.4260422656254055\n",
      "\n",
      "Learning rate alpha: 0.0007\n",
      "Number of iterations to converge: 26165\n",
      "Value of cost function at convergence: 2.424951548553128\n",
      "\n",
      "Learning rate alpha: 0.001\n",
      "Number of iterations to converge: 18995\n",
      "Value of cost function at convergence: 2.424134514167511\n",
      "\n",
      "Learning rate alpha: 0.003\n",
      "Number of iterations to converge: 7029\n",
      "Value of cost function at convergence: 2.4228624540119243\n",
      "\n",
      "Learning rate alpha: 0.005\n",
      "Number of iterations to converge: 4412\n",
      "Value of cost function at convergence: 2.4226074531485455\n",
      "\n",
      "Learning rate alpha: 0.007\n",
      "Number of iterations to converge: 1\n",
      "Value of cost function at convergence: 4863.808530001111\n",
      "\n",
      "Learning rate alpha: 0.01\n",
      "Number of iterations to converge: 1\n",
      "Value of cost function at convergence: 16660.876472111107\n",
      "\n",
      "Learning rate alpha: 0.03\n",
      "Number of iterations to converge: 1\n",
      "Value of cost function at convergence: 276113.077049\n",
      "\n",
      "Learning rate alpha: 0.05\n",
      "Number of iterations to converge: 1\n",
      "Value of cost function at convergence: 850008.8966916668\n",
      "\n",
      "Learning rate alpha: 0.07\n",
      "Number of iterations to converge: 1\n",
      "Value of cost function at convergence: 1738348.3354001113\n",
      "\n",
      "Learning rate alpha: 0.1\n",
      "Number of iterations to converge: 1\n",
      "Value of cost function at convergence: 3660439.2792111114\n",
      "\n",
      "Learning rate alpha: 0.3\n",
      "Number of iterations to converge: 1\n",
      "Value of cost function at convergence: 34554887.0009\n",
      "\n"
     ]
    }
   ],
   "source": [
    "theta = np.zeros((2,1))\n",
    "precision = 0.000001\n",
    "\n",
    "# You can change this set of alphas and try out different, but keep your range less than 1\n",
    "alphas = [0.0001, 0.0003, 0.0005, 0.0007, 0.001, 0.003, 0.005, 0.007, 0.01,0.03, 0.05, 0.07, 0.1, 0.3]\n",
    "\n",
    "# Write your code here\n",
    "for alpha in alphas:\n",
    "    theta = np.zeros((2,1))\n",
    "    theta, J_history, final_cost, num_iter = gradientDescent(X_appended, y, theta, alpha, precision)\n",
    "    print(\"Learning rate alpha:\", alpha)\n",
    "    print(\"Number of iterations to converge:\", num_iter)\n",
    "    print(\"Value of cost function at convergence:\", final_cost)\n",
    "    print()"
   ]
  },
  {
   "cell_type": "markdown",
   "metadata": {},
   "source": [
    "## Section 5: Questions on Analytical and Gradient Descent approaches\n",
    "\n",
    "1. Are the results from both the analytical and gradient descent approach are same? If not, why?\n",
    "2. When do u prefer analytical approach and gradient descent approach? Hint: Explain interms of size of the dataset\n",
    "3. Can we use different cost function in place of MSE? If we do, where will be changes in the gradient descent step?(Just mention using words, equations are not required)\n",
    "4. How does the initialisation of the parameters $\\theta$ effects the convergence? In this case we initialised $\\theta$ to zeros. What happens if we choose closer to solution and farther to solution?\n",
    "5. Any drawbacks of Gradient descent that you could think of? Hint : Interms of Convergence rate.\n",
    "6. What if number of features increases and how does it effect the gradient descent approach and analytical approach? Note:This might require some time to look for appropriate concepts. But do note that this difference is very important to understand.\n",
    "7. Comment your observations on selecting appropriate learning rate.\n",
    "\n",
    "**Write your answers in the following Markdown**"
   ]
  },
  {
   "cell_type": "markdown",
   "metadata": {},
   "source": [
    "1. The results from the analytical approach and the Gradient Descent based approach are almost same"
   ]
  },
  {
   "cell_type": "markdown",
   "metadata": {},
   "source": [
    "6. * Increasing in the number of features will increase the size of the matrix $X^{T} X$, whose size is (N+1, N+1). Increase in N, makes it more difficult to find the inverse of the matrix. It is computationally more intensive to use the analytical approach when the number of features is large.\n",
    "   * "
   ]
  },
  {
   "cell_type": "markdown",
   "metadata": {},
   "source": [
    "7. * When the learning rate is too low, (for example, 0.0001), the gradient descent algorithm takes a long time to converge, as in each step, the parameter is updated by a very small amount. The number of iterations needed for converge is very high(146029 iterations).\n",
    "   * When the learning rate is too high, the parameters are updated by very large step sizes. A very large learning rate can also lead to overstepping the minimum point and the value diverges, as is borne out by the examples where the learning rate is high, causing the model to converge after a single iteration and very high final cost values (of the order of 3 million).\n",
    "   * Therefore, the right way to select alpha is to test the model for different values and choose the one that leads to smooth convergence to the global minima"
   ]
  }
 ],
 "metadata": {
  "kernelspec": {
   "display_name": "Python 3",
   "language": "python",
   "name": "python3"
  },
  "language_info": {
   "codemirror_mode": {
    "name": "ipython",
    "version": 3
   },
   "file_extension": ".py",
   "mimetype": "text/x-python",
   "name": "python",
   "nbconvert_exporter": "python",
   "pygments_lexer": "ipython3",
   "version": "3.6.5"
  }
 },
 "nbformat": 4,
 "nbformat_minor": 2
}
