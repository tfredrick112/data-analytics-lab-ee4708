{
 "cells": [
  {
   "cell_type": "markdown",
   "metadata": {},
   "source": [
    "#  Classification : Nearest Neighbors and Naive Bayes "
   ]
  },
  {
   "cell_type": "markdown",
   "metadata": {},
   "source": [
    "## Classification using Nearest Neighbors"
   ]
  },
  {
   "cell_type": "markdown",
   "metadata": {},
   "source": [
    "(a) Perform k-Nearest neighbours on the given dataset($X_{knn}$ and $y_{knn}$: where $X_{knn}$ stores feature vectors representing the movies and  $y_{knn}$ stores the 0-1 labelling for each movie) for binary classification of movies, for classifiying whether a given movie is a comedy(label 1) or not a comedy(label 0) . Split the dataset into train(80%), validation(10%) and test sets(10%).Run k-Nearest neighbours for different k values (1,3,7,15,31,63). Select the k, using validation set, which returns the best accuracy score. \n",
    "\n",
    "(i)  Report all the validation accuracies for all the values of k. \n",
    "<br>(ii) Report accuracy score by performing k-NN on the test dataset using the best chosen k value. "
   ]
  },
  {
   "cell_type": "code",
   "execution_count": 1,
   "metadata": {},
   "outputs": [],
   "source": [
    "## write your code here.\n",
    "import pandas as pd\n",
    "import numpy as np\n",
    "import matplotlib.pyplot as plt\n",
    "from sklearn.model_selection import train_test_split\n",
    "from sklearn.neighbors import KNeighborsClassifier\n",
    "from sklearn.metrics import accuracy_score"
   ]
  },
  {
   "cell_type": "code",
   "execution_count": 16,
   "metadata": {},
   "outputs": [],
   "source": [
    "df1 = pd.read_csv(\"X_knn.csv\", sep = ' ', header=None)\n",
    "df2 = pd.read_csv(\"y_knn.csv\", header=None)"
   ]
  },
  {
   "cell_type": "code",
   "execution_count": 21,
   "metadata": {},
   "outputs": [],
   "source": [
    "# list_df = list(df1[0])\n",
    "# split_col_list = [row.split() for row in list_df]\n",
    "# for i, row in enumerate(split_col_list):\n",
    "#     split_col_list[i] = [float(val) for val in split_col_list[i]]\n",
    "    \n",
    "#X = np.array(split_col_list)\n",
    "X = np.array(df1)\n",
    "y = np.array(df2)\n",
    "y = y[:, 0]"
   ]
  },
  {
   "cell_type": "code",
   "execution_count": 22,
   "metadata": {},
   "outputs": [
    {
     "data": {
      "text/html": [
       "<div>\n",
       "<style scoped>\n",
       "    .dataframe tbody tr th:only-of-type {\n",
       "        vertical-align: middle;\n",
       "    }\n",
       "\n",
       "    .dataframe tbody tr th {\n",
       "        vertical-align: top;\n",
       "    }\n",
       "\n",
       "    .dataframe thead th {\n",
       "        text-align: right;\n",
       "    }\n",
       "</style>\n",
       "<table border=\"1\" class=\"dataframe\">\n",
       "  <thead>\n",
       "    <tr style=\"text-align: right;\">\n",
       "      <th></th>\n",
       "      <th>0</th>\n",
       "      <th>1</th>\n",
       "      <th>2</th>\n",
       "      <th>3</th>\n",
       "      <th>4</th>\n",
       "      <th>5</th>\n",
       "      <th>6</th>\n",
       "      <th>7</th>\n",
       "      <th>8</th>\n",
       "      <th>9</th>\n",
       "      <th>...</th>\n",
       "      <th>1118</th>\n",
       "      <th>1119</th>\n",
       "      <th>1120</th>\n",
       "      <th>1121</th>\n",
       "      <th>1122</th>\n",
       "      <th>1123</th>\n",
       "      <th>1124</th>\n",
       "      <th>1125</th>\n",
       "      <th>1126</th>\n",
       "      <th>1127</th>\n",
       "    </tr>\n",
       "  </thead>\n",
       "  <tbody>\n",
       "    <tr>\n",
       "      <th>0</th>\n",
       "      <td>0.02500</td>\n",
       "      <td>0.02500</td>\n",
       "      <td>0.05775</td>\n",
       "      <td>0.09675</td>\n",
       "      <td>0.14675</td>\n",
       "      <td>0.21700</td>\n",
       "      <td>0.06700</td>\n",
       "      <td>0.26275</td>\n",
       "      <td>0.26200</td>\n",
       "      <td>0.03200</td>\n",
       "      <td>...</td>\n",
       "      <td>0.03950</td>\n",
       "      <td>0.01800</td>\n",
       "      <td>0.04575</td>\n",
       "      <td>0.03275</td>\n",
       "      <td>0.12500</td>\n",
       "      <td>0.04150</td>\n",
       "      <td>0.01925</td>\n",
       "      <td>0.03625</td>\n",
       "      <td>0.07775</td>\n",
       "      <td>0.02300</td>\n",
       "    </tr>\n",
       "    <tr>\n",
       "      <th>1</th>\n",
       "      <td>0.03975</td>\n",
       "      <td>0.04375</td>\n",
       "      <td>0.03775</td>\n",
       "      <td>0.04800</td>\n",
       "      <td>0.11025</td>\n",
       "      <td>0.07250</td>\n",
       "      <td>0.04775</td>\n",
       "      <td>0.10975</td>\n",
       "      <td>0.09925</td>\n",
       "      <td>0.02050</td>\n",
       "      <td>...</td>\n",
       "      <td>0.04175</td>\n",
       "      <td>0.01925</td>\n",
       "      <td>0.01725</td>\n",
       "      <td>0.02425</td>\n",
       "      <td>0.12550</td>\n",
       "      <td>0.02250</td>\n",
       "      <td>0.01550</td>\n",
       "      <td>0.01475</td>\n",
       "      <td>0.09025</td>\n",
       "      <td>0.01875</td>\n",
       "    </tr>\n",
       "    <tr>\n",
       "      <th>2</th>\n",
       "      <td>0.04350</td>\n",
       "      <td>0.05475</td>\n",
       "      <td>0.02800</td>\n",
       "      <td>0.07700</td>\n",
       "      <td>0.05400</td>\n",
       "      <td>0.06850</td>\n",
       "      <td>0.05600</td>\n",
       "      <td>0.18500</td>\n",
       "      <td>0.04925</td>\n",
       "      <td>0.02675</td>\n",
       "      <td>...</td>\n",
       "      <td>0.04150</td>\n",
       "      <td>0.02675</td>\n",
       "      <td>0.02775</td>\n",
       "      <td>0.03425</td>\n",
       "      <td>0.15550</td>\n",
       "      <td>0.03675</td>\n",
       "      <td>0.01700</td>\n",
       "      <td>0.01950</td>\n",
       "      <td>0.09700</td>\n",
       "      <td>0.01850</td>\n",
       "    </tr>\n",
       "    <tr>\n",
       "      <th>3</th>\n",
       "      <td>0.03725</td>\n",
       "      <td>0.03950</td>\n",
       "      <td>0.03675</td>\n",
       "      <td>0.03100</td>\n",
       "      <td>0.06825</td>\n",
       "      <td>0.04050</td>\n",
       "      <td>0.02325</td>\n",
       "      <td>0.08700</td>\n",
       "      <td>0.05125</td>\n",
       "      <td>0.03025</td>\n",
       "      <td>...</td>\n",
       "      <td>0.05750</td>\n",
       "      <td>0.03375</td>\n",
       "      <td>0.02275</td>\n",
       "      <td>0.03975</td>\n",
       "      <td>0.18525</td>\n",
       "      <td>0.05925</td>\n",
       "      <td>0.01500</td>\n",
       "      <td>0.01525</td>\n",
       "      <td>0.06450</td>\n",
       "      <td>0.01300</td>\n",
       "    </tr>\n",
       "    <tr>\n",
       "      <th>4</th>\n",
       "      <td>0.04200</td>\n",
       "      <td>0.05275</td>\n",
       "      <td>0.05925</td>\n",
       "      <td>0.03675</td>\n",
       "      <td>0.07525</td>\n",
       "      <td>0.12525</td>\n",
       "      <td>0.02850</td>\n",
       "      <td>0.08500</td>\n",
       "      <td>0.02950</td>\n",
       "      <td>0.02875</td>\n",
       "      <td>...</td>\n",
       "      <td>0.04250</td>\n",
       "      <td>0.02825</td>\n",
       "      <td>0.02150</td>\n",
       "      <td>0.02600</td>\n",
       "      <td>0.14275</td>\n",
       "      <td>0.02075</td>\n",
       "      <td>0.01650</td>\n",
       "      <td>0.01675</td>\n",
       "      <td>0.10750</td>\n",
       "      <td>0.01825</td>\n",
       "    </tr>\n",
       "  </tbody>\n",
       "</table>\n",
       "<p>5 rows × 1128 columns</p>\n",
       "</div>"
      ],
      "text/plain": [
       "      0        1        2        3        4        5        6        7     \\\n",
       "0  0.02500  0.02500  0.05775  0.09675  0.14675  0.21700  0.06700  0.26275   \n",
       "1  0.03975  0.04375  0.03775  0.04800  0.11025  0.07250  0.04775  0.10975   \n",
       "2  0.04350  0.05475  0.02800  0.07700  0.05400  0.06850  0.05600  0.18500   \n",
       "3  0.03725  0.03950  0.03675  0.03100  0.06825  0.04050  0.02325  0.08700   \n",
       "4  0.04200  0.05275  0.05925  0.03675  0.07525  0.12525  0.02850  0.08500   \n",
       "\n",
       "      8        9      ...        1118     1119     1120     1121     1122  \\\n",
       "0  0.26200  0.03200   ...     0.03950  0.01800  0.04575  0.03275  0.12500   \n",
       "1  0.09925  0.02050   ...     0.04175  0.01925  0.01725  0.02425  0.12550   \n",
       "2  0.04925  0.02675   ...     0.04150  0.02675  0.02775  0.03425  0.15550   \n",
       "3  0.05125  0.03025   ...     0.05750  0.03375  0.02275  0.03975  0.18525   \n",
       "4  0.02950  0.02875   ...     0.04250  0.02825  0.02150  0.02600  0.14275   \n",
       "\n",
       "      1123     1124     1125     1126     1127  \n",
       "0  0.04150  0.01925  0.03625  0.07775  0.02300  \n",
       "1  0.02250  0.01550  0.01475  0.09025  0.01875  \n",
       "2  0.03675  0.01700  0.01950  0.09700  0.01850  \n",
       "3  0.05925  0.01500  0.01525  0.06450  0.01300  \n",
       "4  0.02075  0.01650  0.01675  0.10750  0.01825  \n",
       "\n",
       "[5 rows x 1128 columns]"
      ]
     },
     "execution_count": 22,
     "metadata": {},
     "output_type": "execute_result"
    }
   ],
   "source": [
    "df1.head()"
   ]
  },
  {
   "cell_type": "code",
   "execution_count": 23,
   "metadata": {},
   "outputs": [],
   "source": [
    "# Splitting Data into Training, Validation and Test sets\n",
    "X_train, X_val, X_test = np.split(X, [int(.8 * len(X)), int(.9 * len(X))])\n",
    "y_train, y_val, y_test = np.split(y, [int(.8 * len(y)), int(.9 * len(y))])"
   ]
  },
  {
   "cell_type": "code",
   "execution_count": 24,
   "metadata": {},
   "outputs": [],
   "source": [
    "k_values = [1,3,7,15,31,63]\n",
    "validation_accuracies = []\n",
    "for k in k_values:\n",
    "    neigh = KNeighborsClassifier(n_neighbors=k)\n",
    "    neigh.fit(X_train, y_train)\n",
    "    y_val_pred = neigh.predict(X_val)\n",
    "    validation_accuracies.append(accuracy_score(y_val, y_val_pred) * 100)"
   ]
  },
  {
   "cell_type": "code",
   "execution_count": 25,
   "metadata": {},
   "outputs": [
    {
     "data": {
      "image/png": "[encoded data removed]",
      "text/plain": [
       "<Figure size 432x288 with 1 Axes>"
      ]
     },
     "metadata": {},
     "output_type": "display_data"
    },
    {
     "name": "stdout",
     "output_type": "stream",
     "text": [
      "Validation Accuracy % for each value of K:\n"
     ]
    },
    {
     "data": {
      "text/html": [
       "<div>\n",
       "<style scoped>\n",
       "    .dataframe tbody tr th:only-of-type {\n",
       "        vertical-align: middle;\n",
       "    }\n",
       "\n",
       "    .dataframe tbody tr th {\n",
       "        vertical-align: top;\n",
       "    }\n",
       "\n",
       "    .dataframe thead th {\n",
       "        text-align: right;\n",
       "    }\n",
       "</style>\n",
       "<table border=\"1\" class=\"dataframe\">\n",
       "  <thead>\n",
       "    <tr style=\"text-align: right;\">\n",
       "      <th></th>\n",
       "      <th>K</th>\n",
       "      <th>Validation Accuracy %</th>\n",
       "    </tr>\n",
       "  </thead>\n",
       "  <tbody>\n",
       "    <tr>\n",
       "      <th>0</th>\n",
       "      <td>1</td>\n",
       "      <td>83.6</td>\n",
       "    </tr>\n",
       "    <tr>\n",
       "      <th>1</th>\n",
       "      <td>3</td>\n",
       "      <td>86.3</td>\n",
       "    </tr>\n",
       "    <tr>\n",
       "      <th>2</th>\n",
       "      <td>7</td>\n",
       "      <td>86.2</td>\n",
       "    </tr>\n",
       "    <tr>\n",
       "      <th>3</th>\n",
       "      <td>15</td>\n",
       "      <td>86.7</td>\n",
       "    </tr>\n",
       "    <tr>\n",
       "      <th>4</th>\n",
       "      <td>31</td>\n",
       "      <td>86.4</td>\n",
       "    </tr>\n",
       "    <tr>\n",
       "      <th>5</th>\n",
       "      <td>63</td>\n",
       "      <td>86.0</td>\n",
       "    </tr>\n",
       "  </tbody>\n",
       "</table>\n",
       "</div>"
      ],
      "text/plain": [
       "    K  Validation Accuracy %\n",
       "0   1                   83.6\n",
       "1   3                   86.3\n",
       "2   7                   86.2\n",
       "3  15                   86.7\n",
       "4  31                   86.4\n",
       "5  63                   86.0"
      ]
     },
     "execution_count": 25,
     "metadata": {},
     "output_type": "execute_result"
    }
   ],
   "source": [
    "plt.plot(k_values, validation_accuracies, 'bo-')\n",
    "plt.xticks(k_values)\n",
    "plt.title(\"Validation Accuracy % vs k\", size=16)\n",
    "plt.xlabel(\"k\", size=14)\n",
    "plt.ylabel(\"Validation Accuracy %\", size=14)\n",
    "plt.show()\n",
    "\n",
    "print(\"Validation Accuracy % for each value of K:\")\n",
    "val_acc_dict = {\"K\": k_values, \"Validation Accuracy %\": validation_accuracies}\n",
    "df_val_acc = pd.DataFrame(val_acc_dict)\n",
    "df_val_acc"
   ]
  },
  {
   "cell_type": "code",
   "execution_count": 26,
   "metadata": {},
   "outputs": [
    {
     "name": "stdout",
     "output_type": "stream",
     "text": [
      "Value of K to get highest validation accuracy % = 15\n",
      "Best Validation Accuracy = 86.7%\n"
     ]
    }
   ],
   "source": [
    "print(\"Value of K to get highest validation accuracy % =\", k_values[validation_accuracies.index(max(validation_accuracies))])\n",
    "print(\"Best Validation Accuracy = {}%\".format(max(validation_accuracies)))"
   ]
  },
  {
   "cell_type": "code",
   "execution_count": 27,
   "metadata": {},
   "outputs": [
    {
     "name": "stdout",
     "output_type": "stream",
     "text": [
      "Test accuracy = 86.7%\n"
     ]
    }
   ],
   "source": [
    "# Using the best value of k\n",
    "neigh = KNeighborsClassifier(n_neighbors=15)\n",
    "neigh.fit(X_train, y_train)\n",
    "y_test_pred = neigh.predict(X_test)\n",
    "acc = accuracy_score(y_test, y_test_pred)\n",
    "print(\"Test accuracy = {}%\".format(acc*100))"
   ]
  },
  {
   "cell_type": "markdown",
   "metadata": {},
   "source": [
    "k = 15 is the best value as it gives us maximum validation accuracy of 86.7%.\n",
    "The test accuracy is 86.7%."
   ]
  },
  {
   "cell_type": "markdown",
   "metadata": {},
   "source": [
    "(b) State why using an even value of k in k-NN should not be chosen"
   ]
  },
  {
   "cell_type": "markdown",
   "metadata": {},
   "source": [
    "To decide the class that a point belongs to, we calculate its distance from all the other points. Then we choose the \"k\" closest points, and whichever class **majority** of those points belong to, we assign the query point to that **majority class**. If k is even, then we might have a case where half of the k points belong to one class and the other half to the alternate class. Thus we will not have any clear majority, making it impossible to classify the query point."
   ]
  },
  {
   "cell_type": "markdown",
   "metadata": {},
   "source": [
    "## Learning Naive Bayes' classifier  "
   ]
  },
  {
   "cell_type": "markdown",
   "metadata": {},
   "source": [
    "### From Continuous Distribution of data"
   ]
  },
  {
   "cell_type": "markdown",
   "metadata": {},
   "source": [
    "Here, the distribution of the data( $X$ represents the datapoints and $Y$ represents the 0-1 binary-class label; where 0 being the negative class and 1 being the positive class) is already known.\n",
    "<br>Consider the following one-dimensional(1-D) Gaussian distributions where means and variances are unknown. You need to estimate means($\\mu_-$: for negative class and  $\\mu_+$: for positive class) and variances ($\\sigma^{2}_{-}$: for negative class and $\\sigma^{2}_+$: for positive class) from the given data : \n",
    "<br> (1) Assume $X|Y_{Y=0} \\sim \\mathcal{N}(\\mu_- , \\sigma^{2}_-)$ \n",
    "<br>(2) Assume $X|Y_{Y=1} \\sim \\mathcal{N}(\\mu_+ , \\sigma^{2}_+)$\n"
   ]
  },
  {
   "cell_type": "markdown",
   "metadata": {},
   "source": [
    "*Generating artificial datasets in the next cell *"
   ]
  },
  {
   "cell_type": "code",
   "execution_count": 9,
   "metadata": {},
   "outputs": [],
   "source": [
    "## This cell is for generating datasets. Students should not change anything in this cell. \n",
    "## You can compare your mean and variance estimates by the actual ones used to generate these datasets\n",
    "\n",
    "import numpy as np\n",
    "X_pos = np.random.randn(1000,1)+np.array([[2.]])\n",
    "X_neg = np.random.randn(1000,1)+np.array([[4.]])\n",
    "X_train_pos = X_pos[:900]\n",
    "X_train_neg = X_neg[:900]\n",
    "X_test_pos = X_pos[900:]\n",
    "X_test_neg = X_neg[900:]\n",
    "X_train = np.concatenate((X_train_pos, X_train_neg), axis=0)\n",
    "X_test = np.concatenate((X_test_pos, X_test_neg), axis=0)\n",
    "Y_train = np.concatenate(( np.ones(900),np.zeros(900) ))\n",
    "Y_test = np.concatenate(( np.ones(100), np.zeros(100) ))\n",
    "\n",
    "## X_train, X_test, Y_train, Y_test are your datasets to work with ####"
   ]
  },
  {
   "cell_type": "markdown",
   "metadata": {},
   "source": [
    "\n",
    "\n",
    "<br>**Instructions to follow for learning a Baeysian classifier:** *(Code the formulae for estimating the different parameters yourself)*\n",
    "<br> a)Utilize the training dataset to estimate the means($\\hat{\\mu_+}$,$\\hat{\\mu_-}$) and variances($\\hat{\\sigma^{2}_+}$, $\\hat{\\sigma^{2}_-}$) for both positive and negative classes  \n",
    "b)Estimate the prior probability: $P(Y=1)$  ⟶ which could be referred to as: $\\hat{a}$ \n",
    "<br>c)Estimate the classifier funtion/posterior probability:  $P(Y=1|X = x)$  ⟶ which could be referred to as $\\hat{\\eta(x)}$\n",
    "<br>d)Find out the threshold value($x^*$) for classification by equating the estimated classifier function($\\hat{\\eta(x)}$)  with threshold probability of 0.5\n",
    "<br>e)Classify the test dataset into the two classes using this threshold value($x^*$) and find out the **accuracy** of the prediction \n",
    "\n",
    "Return back:  $\\hat{\\mu_+}$, $\\hat{\\mu_-}$, $\\hat{\\sigma^{2}_+}$, $\\hat{\\sigma^{2}_-}$, $\\hat{a}$, $x^*$ and accuracy from the code written \n",
    "\n",
    "*Hint: $X|Y_{Y=0} \\sim \\mathcal{N}(\\mu_- , \\sigma^{2}_-)$ implies $P_{X|Y=0} = \\mathcal{N}(\\mu_- , \\sigma^{2}_-) $*\n"
   ]
  },
  {
   "cell_type": "code",
   "execution_count": 10,
   "metadata": {},
   "outputs": [
    {
     "name": "stdout",
     "output_type": "stream",
     "text": [
      "Estimated mean of the positive class = 1.9451297933450715\n",
      "Estimated mean of the negative class = 4.017177962001651\n",
      "\n",
      "Estimated variance of the positive class = 1.0462821374263092\n",
      "Estimated variance of the negative class = 1.000497377629145\n",
      "\n",
      "Prior probability of the positive class = 0.5\n",
      "Prior probability of the negative class = 0.5\n",
      "\n",
      "Threshold value = 2.9821909388188352\n",
      "\n",
      "Training accuracy = 84.66666666666667 %\n",
      "Test accuracy = 83.0 %\n"
     ]
    }
   ],
   "source": [
    "# Number of examples in each class\n",
    "num1 = sum(Y_train==np.ones(len(Y_train)))\n",
    "num2 = len(Y_train) - num1\n",
    "\n",
    "# Estimating mean of the positive class\n",
    "sum1 = 0\n",
    "for i, x in enumerate(X_train):\n",
    "    if Y_train[i]==1:\n",
    "        sum1 += x[0]\n",
    "mu1 = sum1/num1\n",
    "print(\"Estimated mean of the positive class =\", mu1)\n",
    "\n",
    "# Estimating mean of the negative class\n",
    "sum2 = 0\n",
    "for i, x in enumerate(X_train):\n",
    "    if Y_train[i]==0:\n",
    "        sum2 += x[0]\n",
    "mu2 = sum2/num2\n",
    "print(\"Estimated mean of the negative class =\", mu2)\n",
    "print()\n",
    "\n",
    "# Estimating variance of the positive class\n",
    "sum1 = 0\n",
    "for i, x in enumerate(X_train):\n",
    "    if Y_train[i]==1:\n",
    "        sum1 += (x[0] - mu1)**2\n",
    "var1 = sum1/(num1-1)\n",
    "print(\"Estimated variance of the positive class =\", var1)\n",
    "\n",
    "# Estimating variance of the negative class\n",
    "sum2 = 0\n",
    "for i, x in enumerate(X_train):\n",
    "    if Y_train[i]==0:\n",
    "        sum2 += (x[0] - mu2)**2\n",
    "var2 = sum2/(num2-1)\n",
    "print(\"Estimated variance of the negative class =\", var2)\n",
    "print()\n",
    "\n",
    "# Estimating prior probabilities\n",
    "Pr1 = num1/len(Y_train)\n",
    "Pr2 = num2/len(Y_train)\n",
    "print(\"Prior probability of the positive class =\", Pr1)\n",
    "print(\"Prior probability of the negative class =\", Pr2)\n",
    "print()\n",
    "\n",
    "def Gaussian(x, mu, var):\n",
    "    return (1/np.sqrt(2*np.pi*var))*np.exp(-1 * ((x-mu)**2)/(2*var))\n",
    "\n",
    "def posterior_prob(x):\n",
    "    return (Pr1*Gaussian(x, mu1, var1))/(Pr1*Gaussian(x, mu1, var1) + Pr2*Gaussian(x, mu2, var2))\n",
    "\n",
    "# Estimate the threshold value\n",
    "x_values = np.linspace(mu1, mu2, 1000)\n",
    "diff = [None]*1000\n",
    "for i, x in enumerate(x_values):\n",
    "    prob = posterior_prob(x)\n",
    "    diff[i] = abs(0.5 - prob)\n",
    "    \n",
    "threshold = x_values[diff.index(min(diff))]\n",
    "print(\"Threshold value = {}\".format(threshold))\n",
    "print()\n",
    "\n",
    "# Classification of the test data\n",
    "y_train_pred = X_train <= threshold\n",
    "train_result = y_train_pred[:, 0]==Y_train\n",
    "train_acc = np.mean(train_result)\n",
    "print(\"Training accuracy = {} %\".format(train_acc*100))\n",
    "\n",
    "y_test_pred = X_test <= threshold\n",
    "test_result = y_test_pred[:, 0]==Y_test\n",
    "test_acc = np.mean(test_result)\n",
    "print(\"Test accuracy = {} %\".format(test_acc*100))"
   ]
  },
  {
   "cell_type": "markdown",
   "metadata": {},
   "source": [
    "1. * Estimated mean of the positive class = 1.9565564962996493\n",
    "   * Estimated mean of the negative class = 3.9746368049663316\n",
    "\n",
    "\n",
    "2. * Estimated variance of the positive class = 1.013554256583211\n",
    "   * Estimated variance of the negative class = 1.0268496089892385\n",
    "\n",
    "\n",
    "3. * Prior probability of the positive class = 0.5\n",
    "   * Prior probability of the negative class = 0.5\n",
    "\n",
    "\n",
    "4. Threshold value **x*** = 2.966606700837528\n",
    "Every point to the left of the **x*** is classified as belonging to the positive class (Y=1).\n",
    "\n",
    "\n",
    "5. * Training accuracy = **83.5 %**\n",
    "   * Test accuracy = **85.0 %**"
   ]
  },
  {
   "cell_type": "markdown",
   "metadata": {},
   "source": [
    "### From Discrete distribution of data"
   ]
  },
  {
   "cell_type": "markdown",
   "metadata": {},
   "source": [
    "Unlike the first exercise for learning the Naive Bayes' classifier where we dealt with continuous distribution of data, here you need to work with discrete data, which means finding Probability Mass Distribution(PMF). \n",
    "\n",
    "Age  | Income | Status  | Buy\n",
    "-----|--------|-------- |----\n",
    "<=20 |  low   | students| yes\n",
    "<=20 |  high  | students| yes\n",
    "<=20 | medium | students| no\n",
    "<=20 | medium | married | no\n",
    "<=20 |  high  | married | yes\n",
    "21-30|  low   | married | yes\n",
    "21-30|  low   | married | no \n",
    "21-30| medium | students| no\n",
    "21-30|  high  | students| yes\n",
    " >30 |  high  | married | no\n",
    " >30 |  high  | married | yes\n",
    " >30 | medium | married | yes\n",
    " >30 | medium | married | no\n",
    " >30 | medium | students| no\n",
    " \n",
    "Consider the train dataset above. Take any random datapoint ($X_{i}$) where $X_{i} = (X_{i,1} = Age,X_{i,2} = Income,X_{i,3} = Status)$ and its corresponding label \n",
    "\n",
    "($Y_{i} = Buy$). A \"yes\" in Buy corresponds to label-1 and a \"no\" in Buy corresponds to label-0.\n",
    "\n",
    "<br>**Instructions to follow for learning a Baeysian classifier:** *(Code the formulae for estimating the different parameters yourself)*\n",
    "<br> a)Estimate the prior probability: $P(Y=1)$  ⟶ which could be referred to as: $\\hat{a}$   \n",
    "b)Estimate the likelihood for each feature:  $P(X_{i,j} = x |Y = y_{i})$, where $ i$=datapoint counter, $j \\in \\{1,2,3\\}$ and $y_{i} \\in \\{0,1\\}$ \n",
    "<br>c)Estimate the total likelihood: $P(X_{i} = x |Y = y_{i})$  \n",
    "d)Calculate the posterior probability: $P(Y = 1|X_{i} = x_{test} )$ = $p_{test}$ where $x_{test} = (Age = 21-30, Income= medium, Status = married)$\n",
    "\n",
    "\n",
    "Return back: $\\hat{a}$, total likelihood and $p_{test}$ \n"
   ]
  },
  {
   "cell_type": "code",
   "execution_count": 11,
   "metadata": {},
   "outputs": [],
   "source": [
    "data = \"\"\"\n",
    "Age  | Income | Status  | Buy\n",
    "-----|--------|-------- |----\n",
    "<=20 |  low   | students| yes\n",
    "<=20 |  high  | students| yes\n",
    "<=20 | medium | students| no\n",
    "<=20 | medium | married | no\n",
    "<=20 |  high  | married | yes\n",
    "21-30|  low   | married | yes\n",
    "21-30|  low   | married | no \n",
    "21-30| medium | students| no\n",
    "21-30|  high  | students| yes\n",
    " >30 |  high  | married | no\n",
    " >30 |  high  | married | yes\n",
    " >30 | medium | married | yes\n",
    " >30 | medium | married | no\n",
    " >30 | medium | students| no\"\"\"\n",
    "data = data.split(\"\\n\")[1:]\n",
    "age = []\n",
    "income = []\n",
    "status = []\n",
    "buy = []\n",
    "for i in range(2, len(data)):\n",
    "    a, b, c, d = [entry.strip() for entry in data[i].split(\"|\")]\n",
    "    age.append(a)\n",
    "    income.append(b)\n",
    "    status.append(c)\n",
    "    buy.append(d)\n",
    "    \n",
    "features = [age, income, status]\n",
    "table = {\"age\": age, \"income\": income, \"status\": status}\n",
    "n = len(age)"
   ]
  },
  {
   "cell_type": "code",
   "execution_count": 12,
   "metadata": {},
   "outputs": [
    {
     "name": "stdout",
     "output_type": "stream",
     "text": [
      "Prior Probability P(Y = 1) = 0.5\n"
     ]
    }
   ],
   "source": [
    "## write your code here.\n",
    "\n",
    "# Prior probability P(Y = 1)\n",
    "Pr = buy.count(\"yes\")/n\n",
    "print(\"Prior Probability P(Y = 1) =\", Pr)\n",
    "\n",
    "pos_indices = []\n",
    "neg_indices = []\n",
    "for k in range(n):\n",
    "    if buy[k]=='yes':\n",
    "        pos_indices.append(k)\n",
    "    else:\n",
    "        neg_indices.append(k)\n",
    "\n",
    "# Likelihood for each feature\n",
    "P = {\"yes\":{}, \"no\":{}}\n",
    "for key in table:\n",
    "    unique_vals = set(table[key])\n",
    "    P[\"yes\"][key] = {}\n",
    "    P[\"no\"][key] = {}\n",
    "    for val in unique_vals:\n",
    "        pos_count = 0\n",
    "        neg_count = 0\n",
    "        for k in range(n):\n",
    "            if buy[k]=='yes' and table[key][k]==val:\n",
    "                pos_count += 1\n",
    "            if buy[k]=='no' and table[key][k]==val:\n",
    "                neg_count += 1\n",
    "        P[\"yes\"][key][val] = pos_count/len(pos_indices)\n",
    "        P[\"no\"][key][val] = neg_count/len(neg_indices)"
   ]
  },
  {
   "cell_type": "markdown",
   "metadata": {},
   "source": [
    "#### Class Conditional Probabilities for each feature"
   ]
  },
  {
   "cell_type": "code",
   "execution_count": 13,
   "metadata": {},
   "outputs": [
    {
     "name": "stdout",
     "output_type": "stream",
     "text": [
      "P(X age = <=20 | Y = yes) = 0.42857142857142855\n",
      "P(X age = 21-30 | Y = yes) = 0.2857142857142857\n",
      "P(X age = >30 | Y = yes) = 0.2857142857142857\n",
      "\n",
      "P(X income = low | Y = yes) = 0.2857142857142857\n",
      "P(X income = high | Y = yes) = 0.5714285714285714\n",
      "P(X income = medium | Y = yes) = 0.14285714285714285\n",
      "\n",
      "P(X status = married | Y = yes) = 0.5714285714285714\n",
      "P(X status = students | Y = yes) = 0.42857142857142855\n",
      "\n",
      "P(X age = <=20 | Y = no) = 0.2857142857142857\n",
      "P(X age = 21-30 | Y = no) = 0.2857142857142857\n",
      "P(X age = >30 | Y = no) = 0.42857142857142855\n",
      "\n",
      "P(X income = low | Y = no) = 0.14285714285714285\n",
      "P(X income = high | Y = no) = 0.14285714285714285\n",
      "P(X income = medium | Y = no) = 0.7142857142857143\n",
      "\n",
      "P(X status = married | Y = no) = 0.5714285714285714\n",
      "P(X status = students | Y = no) = 0.42857142857142855\n",
      "\n"
     ]
    }
   ],
   "source": [
    "for key in P:\n",
    "    for key2 in P[key]:\n",
    "        for val in P[key][key2]:\n",
    "            print(\"P(X {} = {} | Y = {}) = {}\".format(key2, val, key, P[key][key2][val]))\n",
    "        print()"
   ]
  },
  {
   "cell_type": "markdown",
   "metadata": {},
   "source": [
    "#### Total Probability"
   ]
  },
  {
   "cell_type": "code",
   "execution_count": 14,
   "metadata": {},
   "outputs": [
    {
     "name": "stdout",
     "output_type": "stream",
     "text": [
      "Y = 1 case\n",
      "P(X age = <=20, income = low, status = married | Y = 1) = 0.06997084548104955\n",
      "P(X age = <=20, income = low, status = students | Y = 1) = 0.05247813411078716\n",
      "P(X age = <=20, income = high, status = married | Y = 1) = 0.1399416909620991\n",
      "P(X age = <=20, income = high, status = students | Y = 1) = 0.10495626822157432\n",
      "P(X age = <=20, income = medium, status = married | Y = 1) = 0.034985422740524776\n",
      "P(X age = <=20, income = medium, status = students | Y = 1) = 0.02623906705539358\n",
      "P(X age = 21-30, income = low, status = married | Y = 1) = 0.0466472303206997\n",
      "P(X age = 21-30, income = low, status = students | Y = 1) = 0.034985422740524776\n",
      "P(X age = 21-30, income = high, status = married | Y = 1) = 0.0932944606413994\n",
      "P(X age = 21-30, income = high, status = students | Y = 1) = 0.06997084548104955\n",
      "P(X age = 21-30, income = medium, status = married | Y = 1) = 0.02332361516034985\n",
      "P(X age = 21-30, income = medium, status = students | Y = 1) = 0.017492711370262388\n",
      "P(X age = >30, income = low, status = married | Y = 1) = 0.0466472303206997\n",
      "P(X age = >30, income = low, status = students | Y = 1) = 0.034985422740524776\n",
      "P(X age = >30, income = high, status = married | Y = 1) = 0.0932944606413994\n",
      "P(X age = >30, income = high, status = students | Y = 1) = 0.06997084548104955\n",
      "P(X age = >30, income = medium, status = married | Y = 1) = 0.02332361516034985\n",
      "P(X age = >30, income = medium, status = students | Y = 1) = 0.017492711370262388\n",
      "\n",
      "Y = 0 case\n",
      "P(X age = <=20, income = low, status = married | Y = 0) = 0.02332361516034985\n",
      "P(X age = <=20, income = low, status = students | Y = 0) = 0.017492711370262388\n",
      "P(X age = <=20, income = high, status = married | Y = 0) = 0.02332361516034985\n",
      "P(X age = <=20, income = high, status = students | Y = 0) = 0.017492711370262388\n",
      "P(X age = <=20, income = medium, status = married | Y = 0) = 0.11661807580174927\n",
      "P(X age = <=20, income = medium, status = students | Y = 0) = 0.08746355685131195\n",
      "P(X age = 21-30, income = low, status = married | Y = 0) = 0.02332361516034985\n",
      "P(X age = 21-30, income = low, status = students | Y = 0) = 0.017492711370262388\n",
      "P(X age = 21-30, income = high, status = married | Y = 0) = 0.02332361516034985\n",
      "P(X age = 21-30, income = high, status = students | Y = 0) = 0.017492711370262388\n",
      "P(X age = 21-30, income = medium, status = married | Y = 0) = 0.11661807580174927\n",
      "P(X age = 21-30, income = medium, status = students | Y = 0) = 0.08746355685131195\n",
      "P(X age = >30, income = low, status = married | Y = 0) = 0.034985422740524776\n",
      "P(X age = >30, income = low, status = students | Y = 0) = 0.02623906705539358\n",
      "P(X age = >30, income = high, status = married | Y = 0) = 0.034985422740524776\n",
      "P(X age = >30, income = high, status = students | Y = 0) = 0.02623906705539358\n",
      "P(X age = >30, income = medium, status = married | Y = 0) = 0.1749271137026239\n",
      "P(X age = >30, income = medium, status = students | Y = 0) = 0.13119533527696792\n"
     ]
    }
   ],
   "source": [
    "age_vals = set(list(age))\n",
    "income_vals = set(list(income))\n",
    "status_vals = set(list(status))\n",
    "\n",
    "print(\"Y = 1 case\")\n",
    "for a in age_vals:\n",
    "    for b in income_vals:\n",
    "        for c in status_vals:\n",
    "            answer = P[\"yes\"][\"age\"][a] * P[\"yes\"][\"income\"][b] * P[\"yes\"][\"status\"][c]\n",
    "            print(\"P(X age = {}, income = {}, status = {} | Y = 1) = {}\".format(a, b, c, answer))\n",
    "        \n",
    "print()\n",
    "print(\"Y = 0 case\")\n",
    "for a in age_vals:\n",
    "    for b in income_vals:\n",
    "        for c in status_vals:\n",
    "            answer = P[\"no\"][\"age\"][a] * P[\"no\"][\"income\"][b] * P[\"no\"][\"status\"][c]\n",
    "            print(\"P(X age = {}, income = {}, status = {} | Y = 0) = {}\".format(a, b, c, answer))"
   ]
  },
  {
   "cell_type": "code",
   "execution_count": 28,
   "metadata": {},
   "outputs": [
    {
     "name": "stdout",
     "output_type": "stream",
     "text": [
      "P(Y = 1 | xtest = Age=21-30,Income=medium,Status=married) = 0.16666666666666663\n",
      "P(Y = 0 | xtest = Age=21-30,Income=medium,Status=married) = 0.8333333333333334\n"
     ]
    }
   ],
   "source": [
    "x_age = \"21-30\"\n",
    "x_income = \"medium\"\n",
    "x_status = \"married\"\n",
    "class_conditional = P[\"yes\"][\"age\"][x_age] * P[\"yes\"][\"income\"][x_income] * P[\"yes\"][\"status\"][x_status]\n",
    "class_conditional_opp = P[\"no\"][\"age\"][x_age] * P[\"no\"][\"income\"][x_income] * P[\"no\"][\"status\"][x_status]\n",
    "\n",
    "req_probability = (class_conditional * Pr)/((class_conditional * Pr) + (class_conditional_opp * (1 - Pr)))\n",
    "print(\"P(Y = 1 | xtest = Age={},Income={},Status={}) = {}\".format(x_age, x_income, x_status, req_probability))\n",
    "print(\"P(Y = 0 | xtest = Age={},Income={},Status={}) = {}\".format(x_age, x_income, x_status, 1-req_probability))"
   ]
  },
  {
   "cell_type": "markdown",
   "metadata": {},
   "source": [
    "The posterior probability for the x_test to lie in the Y = 1 class is 0.16663, the posterior probability for the x_test to lie in the Y = 0 class is 0.8333333333333334. Therefore, the classifier will predict that the x_test lies in the Y = 0 class. The classifier will predict that the x_test belongs to the negative class (\"no\")."
   ]
  }
 ],
 "metadata": {
  "kernelspec": {
   "display_name": "Python 3",
   "language": "python",
   "name": "python3"
  },
  "language_info": {
   "codemirror_mode": {
    "name": "ipython",
    "version": 3
   },
   "file_extension": ".py",
   "mimetype": "text/x-python",
   "name": "python",
   "nbconvert_exporter": "python",
   "pygments_lexer": "ipython3",
   "version": "3.6.5"
  },
  "toc": {
   "nav_menu": {},
   "number_sections": true,
   "sideBar": true,
   "skip_h1_title": false,
   "title_cell": "Table of Contents",
   "title_sidebar": "Contents",
   "toc_cell": false,
   "toc_position": {},
   "toc_section_display": true,
   "toc_window_display": false
  }
 },
 "nbformat": 4,
 "nbformat_minor": 2
}
